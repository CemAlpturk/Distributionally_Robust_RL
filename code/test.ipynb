{
 "cells": [
  {
   "cell_type": "code",
   "execution_count": 14,
   "id": "76355e8b-6cb9-474e-afdb-580d05d362d4",
   "metadata": {},
   "outputs": [],
   "source": [
    "import numpy as np\n",
    "from scipy import optimize\n",
    "from scipy.optimize import Bounds, shgo, minimize\n",
    "import keras\n",
    "from Environment.Environment import Environment\n",
    "\n",
    "import os\n",
    "os.environ['TF_CPP_MIN_LOG_LEVEL'] = '3'  # or any {'0', '1', '2'}\n",
    "import tensorflow as tf\n",
    "\n"
   ]
  },
  {
   "cell_type": "code",
   "execution_count": 63,
   "id": "4f02d0ea-8754-422d-9eec-3f48f205ae63",
   "metadata": {},
   "outputs": [],
   "source": [
    "# Generate dist\n",
    "N = 10\n",
    "mean = np.zeros(2)\n",
    "cov = 0.3 * np.identity(2)\n",
    "\n",
    "dist = np.random.multivariate_normal(mean, cov, N)"
   ]
  },
  {
   "cell_type": "code",
   "execution_count": 64,
   "id": "19936a6a-61b3-49fc-96d1-aa952c20353e",
   "metadata": {},
   "outputs": [
    {
     "data": {
      "text/plain": [
       "array([[-0.51279623, -0.4967897 ],\n",
       "       [-0.58747512,  0.43775285],\n",
       "       [ 0.06988189,  0.86023388],\n",
       "       [-0.02946063,  0.05498599],\n",
       "       [ 0.14451258, -0.05005101],\n",
       "       [-1.46822205, -0.29139811],\n",
       "       [ 0.272707  ,  0.11289018],\n",
       "       [ 0.37937035, -1.04490224],\n",
       "       [ 0.14055905,  0.45946203],\n",
       "       [-0.01208293, -0.05910748]])"
      ]
     },
     "execution_count": 64,
     "metadata": {},
     "output_type": "execute_result"
    }
   ],
   "source": [
    "dist"
   ]
  },
  {
   "cell_type": "code",
   "execution_count": 128,
   "id": "9008bb92-65af-496a-8a75-50a094606015",
   "metadata": {},
   "outputs": [
    {
     "name": "stdout",
     "output_type": "stream",
     "text": [
      "Model: \"sequential_3\"\n",
      "_________________________________________________________________\n",
      " Layer (type)                Output Shape              Param #   \n",
      "=================================================================\n",
      " dense_6 (Dense)             (None, 100)               300       \n",
      "                                                                 \n",
      " dense_7 (Dense)             (None, 100)               10100     \n",
      "                                                                 \n",
      " dense_8 (Dense)             (None, 1)                 101       \n",
      "                                                                 \n",
      "=================================================================\n",
      "Total params: 10,501\n",
      "Trainable params: 10,501\n",
      "Non-trainable params: 0\n",
      "_________________________________________________________________\n"
     ]
    }
   ],
   "source": [
    "# Generate Network\n",
    "model = keras.Sequential()\n",
    "model.add(keras.layers.Input(shape=(2,)))\n",
    "model.add(keras.layers.Dense(100, activation='relu'))\n",
    "model.add(keras.layers.Dense(100, activation='relu'))\n",
    "model.add(keras.layers.Dense(1, activation='sigmoid'))\n",
    "model.compile('adam', 'mse')\n",
    "model.summary()"
   ]
  },
  {
   "cell_type": "code",
   "execution_count": 129,
   "id": "4296f745-9525-4c44-a5a0-5040dba109d4",
   "metadata": {},
   "outputs": [],
   "source": [
    "def f(x):\n",
    "    return model.predict(x)"
   ]
  },
  {
   "cell_type": "code",
   "execution_count": 130,
   "id": "01b6d584-f492-42e0-ba7b-12c94228e63e",
   "metadata": {},
   "outputs": [
    {
     "data": {
      "text/plain": [
       "array([[0.5066248]], dtype=float32)"
      ]
     },
     "execution_count": 130,
     "metadata": {},
     "output_type": "execute_result"
    }
   ],
   "source": [
    "x0 = np.ones((1,2))\n",
    "f(x0)"
   ]
  },
  {
   "cell_type": "code",
   "execution_count": 131,
   "id": "70491653-b048-4500-b73d-d0421c9979c9",
   "metadata": {},
   "outputs": [],
   "source": [
    "# Objective function\n",
    "dim = 2\n",
    "K = 1\n",
    "def obj(x):\n",
    "    # val = 0\n",
    "    # for i in range(N):\n",
    "    #     for k in range(K):\n",
    "    #         start = dim*(i*N + k)\n",
    "    #         stop = start + dim\n",
    "    #         var = x[start:stop]\n",
    "    #         val += f(var)\n",
    "    # return val/(N*K)\n",
    "    var = x.reshape((N*K,dim))\n",
    "    return -np.sum(f(var), axis=0)[0]/(N*K)"
   ]
  },
  {
   "cell_type": "code",
   "execution_count": 132,
   "id": "f6aab504-0e5e-4a75-8986-bbd91423990a",
   "metadata": {},
   "outputs": [
    {
     "data": {
      "text/plain": [
       "-0.5031237602233887"
      ]
     },
     "execution_count": 132,
     "metadata": {},
     "output_type": "execute_result"
    }
   ],
   "source": [
    "x = np.random.rand(N*K*dim)\n",
    "obj(x)"
   ]
  },
  {
   "cell_type": "code",
   "execution_count": 133,
   "id": "8359b6ad-9ecb-4887-a939-3740dd51775d",
   "metadata": {},
   "outputs": [
    {
     "data": {
      "text/plain": [
       "1.3804066486285673"
      ]
     },
     "execution_count": 133,
     "metadata": {},
     "output_type": "execute_result"
    }
   ],
   "source": [
    "theta = 10.0\n",
    "def constraint(x):\n",
    "    dist_k = np.repeat(dist, repeats=K, axis=0)\n",
    "    x_m = x.reshape(N*K,dim)\n",
    "    val = np.square(np.linalg.norm(dist_k-x_m,2,axis=1))\n",
    "    return np.sum(val)/(N*K)\n",
    "\n",
    "constraint(x)\n",
    "    "
   ]
  },
  {
   "cell_type": "code",
   "execution_count": 134,
   "id": "ab68d421-70d8-462a-905c-15a61fa6208e",
   "metadata": {},
   "outputs": [],
   "source": [
    "def jac(x):\n",
    "    dist_k = np.repeat(dist, repeats=K, axis=0).flatten()\n",
    "    return 2*(x - dist_k)/(N*K)"
   ]
  },
  {
   "cell_type": "code",
   "execution_count": 135,
   "id": "36b35d59-c362-4a47-8bca-fdec3b533270",
   "metadata": {},
   "outputs": [
    {
     "data": {
      "text/plain": [
       "array([-0.01186966,  0.01849368, -0.01186966,  0.01849368], dtype=float32)"
      ]
     },
     "execution_count": 135,
     "metadata": {},
     "output_type": "execute_result"
    }
   ],
   "source": [
    "def df(x):\n",
    "    inp = x.reshape((-1,dim))\n",
    "    xc = tf.Variable(inp, dtype=tf.float32)\n",
    "    with tf.GradientTape() as g:\n",
    "        g.watch(xc)\n",
    "        pred = model(xc)\n",
    "        grad = g.jacobian(pred,xc)\n",
    "        # print(grad)\n",
    "    return grad.numpy()\n",
    "\n",
    "np.array([df(x0),df(x0)]).flatten()"
   ]
  },
  {
   "cell_type": "code",
   "execution_count": 136,
   "id": "33c5716d-8319-42c8-9139-b5030d6328a1",
   "metadata": {},
   "outputs": [
    {
     "name": "stdout",
     "output_type": "stream",
     "text": [
      "(10, 1, 10, 2)\n",
      "(10, 1, 2)\n",
      "[-0.01186966  0.01849367 -0.01186966  0.01849367 -0.01186966  0.01849367\n",
      " -0.01186966  0.01849367 -0.01186966  0.01849367 -0.01186966  0.01849367\n",
      " -0.01186966  0.01849367 -0.01186966  0.01849367 -0.01186966  0.01849367\n",
      " -0.01186966  0.01849367]\n"
     ]
    }
   ],
   "source": [
    "#a = np.array([np.ones(2), 2*np.ones(2)])\n",
    "a = np.ones((10,2))\n",
    "xc = tf.Variable(a, dtype=tf.float32)\n",
    "with tf.GradientTape() as g:\n",
    "    g.watch(xc)\n",
    "    pred = model(xc)\n",
    "    grad = g.jacobian(pred,xc)\n",
    "\n",
    "print(grad.numpy().shape)\n",
    "\n",
    "j_sum = tf.reduce_sum(grad.numpy(), axis=2)\n",
    "print(j_sum.shape)\n",
    "print(j_sum.numpy().flatten())"
   ]
  },
  {
   "cell_type": "code",
   "execution_count": 137,
   "id": "d3837db1-2ed3-43a0-bcbb-a3cd9167cffc",
   "metadata": {},
   "outputs": [
    {
     "data": {
      "text/plain": [
       "array([-0.01186966,  0.01849368, -0.01186966,  0.01849368, -0.01186966,\n",
       "        0.01849368], dtype=float32)"
      ]
     },
     "execution_count": 137,
     "metadata": {},
     "output_type": "execute_result"
    }
   ],
   "source": [
    "def jac_f(x):\n",
    "    # val = []\n",
    "    # for i in range(N):\n",
    "    #     for k in range(K):\n",
    "    #         start = dim*(i*K + k)\n",
    "    #         stop = start + dim\n",
    "    #         # print(f\"{start} : {stop}\")\n",
    "    #         var = x[start:stop]\n",
    "    #         # print(var)\n",
    "    #         val.append(df(var))\n",
    "    # return -np.array(val).flatten()\n",
    "    \n",
    "    x_m = x.reshape((-1,dim))\n",
    "    j = df(x)\n",
    "    j_sum = tf.reduce_sum(j, axis=2)\n",
    "    return j_sum.numpy().flatten()\n",
    "\n",
    "jac_f(np.ones((3,2)))"
   ]
  },
  {
   "cell_type": "code",
   "execution_count": 138,
   "id": "b4b934c1-121a-4b38-8874-424ced85a319",
   "metadata": {},
   "outputs": [],
   "source": [
    "from scipy.optimize import NonlinearConstraint\n",
    "\n",
    "con = NonlinearConstraint(constraint, -np.inf, theta**2)"
   ]
  },
  {
   "cell_type": "code",
   "execution_count": 139,
   "id": "e2cd537b-d275-40dc-99be-43d27b3e154f",
   "metadata": {},
   "outputs": [
    {
     "name": "stdout",
     "output_type": "stream",
     "text": [
      "0.503123664855957\n",
      "     fun: -0.503123664855957\n",
      "     jac: array([-0.0135251 ,  0.02240705,  0.00610416,  0.00296268,  0.00284762,\n",
      "        0.00332205, -0.01187076,  0.0184954 ,  0.00109883,  0.0048399 ,\n",
      "        0.00322664,  0.00291491, -0.01270182,  0.02045813, -0.00507491,\n",
      "        0.01160968, -0.00927379,  0.01554166,  0.00257245,  0.0043512 ])\n",
      " message: 'Optimization terminated successfully'\n",
      "    nfev: 12\n",
      "     nit: 1\n",
      "    njev: 1\n",
      "  status: 0\n",
      " success: True\n",
      "       x: array([0.48964063, 0.29777103, 0.66119083, 0.94309548, 0.5321398 ,\n",
      "       0.49106492, 0.67484306, 0.67925904, 0.04316   , 0.12899232,\n",
      "       0.37535634, 0.35377668, 0.77434423, 0.63854256, 0.77276655,\n",
      "       0.75634392, 0.62662272, 0.42661353, 0.27925514, 0.94626946])\n"
     ]
    }
   ],
   "source": [
    "lb = -10*np.ones(N*K*dim)\n",
    "ub = 10*np.ones(N*K*dim)\n",
    "bounds = Bounds(lb,ub)\n",
    "options = {'maxiter':200}\n",
    "result = minimize(obj, x, method='SLSQP', bounds=bounds, jac=jac_f, constraints=con, options=options)\n",
    "print(-obj(result.x))\n",
    "print(result)"
   ]
  },
  {
   "cell_type": "code",
   "execution_count": null,
   "id": "da8c1623-05ab-47cb-82d7-e444caaeb113",
   "metadata": {},
   "outputs": [],
   "source": [
    "ineq_cons = {'type': 'ineq',\n",
    "             'fun': constraint,\n",
    "             'jac': jac}\n",
    "bounds = []\n",
    "for i in range(N*K*dim):\n",
    "    bounds.append((-10,10))\n",
    "options = {'maxiter':1, 'disp':True}\n",
    "results = optimize.shgo(obj, bounds, options=options)"
   ]
  },
  {
   "cell_type": "code",
   "execution_count": null,
   "id": "1a28305d-efed-42af-8cf1-7f1214f6c7d9",
   "metadata": {},
   "outputs": [],
   "source": []
  },
  {
   "cell_type": "code",
   "execution_count": 10,
   "id": "3dd7117f-123a-4686-b5e7-c33eac8fad42",
   "metadata": {},
   "outputs": [
    {
     "data": {
      "text/plain": [
       "array([[1, 4],\n",
       "       [2, 5],\n",
       "       [3, 6]])"
      ]
     },
     "execution_count": 10,
     "metadata": {},
     "output_type": "execute_result"
    }
   ],
   "source": [
    "a = np.array([[1,4],[2,5],[3,6]])\n",
    "np.repeat(a, repeats=1, axis=0)"
   ]
  },
  {
   "cell_type": "code",
   "execution_count": 49,
   "id": "3ceb7757-0100-4e60-9440-fdf63d9a0d41",
   "metadata": {},
   "outputs": [
    {
     "data": {
      "text/plain": [
       "array([[1, 4],\n",
       "       [2, 5],\n",
       "       [3, 6]])"
      ]
     },
     "execution_count": 49,
     "metadata": {},
     "output_type": "execute_result"
    }
   ],
   "source": [
    "b = a.flatten()\n",
    "b.reshape((3,2))\n"
   ]
  },
  {
   "cell_type": "code",
   "execution_count": 54,
   "id": "c9ecbc22-2c52-4e4d-b044-7eac4b6d6df3",
   "metadata": {},
   "outputs": [
    {
     "data": {
      "text/plain": [
       "array([0., 0., 0.])"
      ]
     },
     "execution_count": 54,
     "metadata": {},
     "output_type": "execute_result"
    }
   ],
   "source": [
    "np.linalg.norm(a - b.reshape((3,2)),2,axis=1)"
   ]
  },
  {
   "cell_type": "code",
   "execution_count": null,
   "id": "29d7c7cd-8653-4da7-afde-7af78f3bad50",
   "metadata": {},
   "outputs": [],
   "source": []
  }
 ],
 "metadata": {
  "kernelspec": {
   "display_name": "Python 3 (ipykernel)",
   "language": "python",
   "name": "python3"
  },
  "language_info": {
   "codemirror_mode": {
    "name": "ipython",
    "version": 3
   },
   "file_extension": ".py",
   "mimetype": "text/x-python",
   "name": "python",
   "nbconvert_exporter": "python",
   "pygments_lexer": "ipython3",
   "version": "3.8.12"
  }
 },
 "nbformat": 4,
 "nbformat_minor": 5
}
